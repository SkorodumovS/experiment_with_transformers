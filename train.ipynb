{
 "cells": [
  {
   "cell_type": "code",
   "execution_count": 2,
   "metadata": {},
   "outputs": [],
   "source": [
    "from models.from_chatgpt import Transformer\n",
    "from utils.utils import print_model_memory_footprint"
   ]
  },
  {
   "cell_type": "code",
   "execution_count": 4,
   "metadata": {},
   "outputs": [
    {
     "name": "stdout",
     "output_type": "stream",
     "text": [
      "The model has 24,561,424 parameters.\n",
      "The model has 0 tensors.\n",
      "The model's memory footprint is approximately 93.69 MB.\n"
     ]
    }
   ],
   "source": [
    "model = Transformer()\n",
    "print_model_memory_footprint(model)"
   ]
  },
  {
   "cell_type": "code",
   "execution_count": null,
   "metadata": {},
   "outputs": [],
   "source": []
  }
 ],
 "metadata": {
  "kernelspec": {
   "display_name": "venv",
   "language": "python",
   "name": "python3"
  },
  "language_info": {
   "codemirror_mode": {
    "name": "ipython",
    "version": 3
   },
   "file_extension": ".py",
   "mimetype": "text/x-python",
   "name": "python",
   "nbconvert_exporter": "python",
   "pygments_lexer": "ipython3",
   "version": "3.11.4"
  },
  "orig_nbformat": 4,
  "vscode": {
   "interpreter": {
    "hash": "54536db21e50c2f58618522523106a884d07dae931fe3f1d7044d4dd20dac1e4"
   }
  }
 },
 "nbformat": 4,
 "nbformat_minor": 2
}
